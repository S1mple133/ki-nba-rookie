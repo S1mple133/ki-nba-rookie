{
 "cells": [
  {
   "attachments": {},
   "cell_type": "markdown",
   "id": "55f9b703",
   "metadata": {},
   "source": [
    "# Random Forest\n",
    " \n",
    "Use the Random Forest Algorithm to train and test a model."
   ]
  },
  {
   "cell_type": "code",
   "execution_count": 2,
   "id": "f20c8221",
   "metadata": {},
   "outputs": [
    {
     "data": {
      "text/html": [
       "<div>\n",
       "<style scoped>\n",
       "    .dataframe tbody tr th:only-of-type {\n",
       "        vertical-align: middle;\n",
       "    }\n",
       "\n",
       "    .dataframe tbody tr th {\n",
       "        vertical-align: top;\n",
       "    }\n",
       "\n",
       "    .dataframe thead th {\n",
       "        text-align: right;\n",
       "    }\n",
       "</style>\n",
       "<table border=\"1\" class=\"dataframe\">\n",
       "  <thead>\n",
       "    <tr style=\"text-align: right;\">\n",
       "      <th></th>\n",
       "      <th>Name</th>\n",
       "      <th>GamesPlayed</th>\n",
       "      <th>MinutesPlayed</th>\n",
       "      <th>PointsPerGame</th>\n",
       "      <th>FieldGoalsMade</th>\n",
       "      <th>FieldGoalAttempts</th>\n",
       "      <th>FieldGoalPercent</th>\n",
       "      <th>3PointMade</th>\n",
       "      <th>3PointAttempts</th>\n",
       "      <th>3PointAttemptsPercent</th>\n",
       "      <th>...</th>\n",
       "      <th>FreeThrowAttempts</th>\n",
       "      <th>FreeThrowPercent</th>\n",
       "      <th>OffensiveRebounds</th>\n",
       "      <th>DefensiveRebounds</th>\n",
       "      <th>Rebounds</th>\n",
       "      <th>Assists</th>\n",
       "      <th>Steals</th>\n",
       "      <th>Blocks</th>\n",
       "      <th>Turnovers</th>\n",
       "      <th>CareerLongerThan5Years</th>\n",
       "    </tr>\n",
       "  </thead>\n",
       "  <tbody>\n",
       "    <tr>\n",
       "      <th>456</th>\n",
       "      <td>Brandon Davies</td>\n",
       "      <td>51</td>\n",
       "      <td>11.3</td>\n",
       "      <td>2.8</td>\n",
       "      <td>1.1</td>\n",
       "      <td>2.5</td>\n",
       "      <td>42.2</td>\n",
       "      <td>0.0</td>\n",
       "      <td>0.2</td>\n",
       "      <td>20.0</td>\n",
       "      <td>...</td>\n",
       "      <td>1.0</td>\n",
       "      <td>64.2</td>\n",
       "      <td>0.7</td>\n",
       "      <td>1.4</td>\n",
       "      <td>2.1</td>\n",
       "      <td>0.5</td>\n",
       "      <td>0.5</td>\n",
       "      <td>0.2</td>\n",
       "      <td>0.7</td>\n",
       "      <td>0.0</td>\n",
       "    </tr>\n",
       "    <tr>\n",
       "      <th>303</th>\n",
       "      <td>Chris Washburn</td>\n",
       "      <td>35</td>\n",
       "      <td>11.0</td>\n",
       "      <td>3.8</td>\n",
       "      <td>1.6</td>\n",
       "      <td>4.1</td>\n",
       "      <td>39.3</td>\n",
       "      <td>0.0</td>\n",
       "      <td>0.0</td>\n",
       "      <td>0.0</td>\n",
       "      <td>...</td>\n",
       "      <td>1.5</td>\n",
       "      <td>35.3</td>\n",
       "      <td>1.0</td>\n",
       "      <td>1.9</td>\n",
       "      <td>2.9</td>\n",
       "      <td>0.5</td>\n",
       "      <td>0.2</td>\n",
       "      <td>0.2</td>\n",
       "      <td>1.1</td>\n",
       "      <td>0.0</td>\n",
       "    </tr>\n",
       "    <tr>\n",
       "      <th>772</th>\n",
       "      <td>Devin Booker</td>\n",
       "      <td>76</td>\n",
       "      <td>27.7</td>\n",
       "      <td>13.8</td>\n",
       "      <td>4.8</td>\n",
       "      <td>11.4</td>\n",
       "      <td>42.3</td>\n",
       "      <td>1.3</td>\n",
       "      <td>3.8</td>\n",
       "      <td>34.3</td>\n",
       "      <td>...</td>\n",
       "      <td>3.4</td>\n",
       "      <td>84.0</td>\n",
       "      <td>0.4</td>\n",
       "      <td>2.1</td>\n",
       "      <td>2.5</td>\n",
       "      <td>2.6</td>\n",
       "      <td>0.6</td>\n",
       "      <td>0.3</td>\n",
       "      <td>2.1</td>\n",
       "      <td>0.0</td>\n",
       "    </tr>\n",
       "    <tr>\n",
       "      <th>1298</th>\n",
       "      <td>Corie Blount</td>\n",
       "      <td>67</td>\n",
       "      <td>10.3</td>\n",
       "      <td>3.0</td>\n",
       "      <td>1.1</td>\n",
       "      <td>2.6</td>\n",
       "      <td>43.7</td>\n",
       "      <td>0.0</td>\n",
       "      <td>0.0</td>\n",
       "      <td>0.0</td>\n",
       "      <td>...</td>\n",
       "      <td>1.1</td>\n",
       "      <td>61.3</td>\n",
       "      <td>1.1</td>\n",
       "      <td>1.8</td>\n",
       "      <td>2.9</td>\n",
       "      <td>0.8</td>\n",
       "      <td>0.3</td>\n",
       "      <td>0.5</td>\n",
       "      <td>0.8</td>\n",
       "      <td>1.0</td>\n",
       "    </tr>\n",
       "    <tr>\n",
       "      <th>829</th>\n",
       "      <td>Allan Ray</td>\n",
       "      <td>47</td>\n",
       "      <td>15.1</td>\n",
       "      <td>6.2</td>\n",
       "      <td>2.1</td>\n",
       "      <td>5.5</td>\n",
       "      <td>38.6</td>\n",
       "      <td>1.0</td>\n",
       "      <td>2.5</td>\n",
       "      <td>41.4</td>\n",
       "      <td>...</td>\n",
       "      <td>1.2</td>\n",
       "      <td>76.4</td>\n",
       "      <td>0.4</td>\n",
       "      <td>1.1</td>\n",
       "      <td>1.5</td>\n",
       "      <td>0.9</td>\n",
       "      <td>0.4</td>\n",
       "      <td>0.1</td>\n",
       "      <td>0.9</td>\n",
       "      <td>0.0</td>\n",
       "    </tr>\n",
       "    <tr>\n",
       "      <th>262</th>\n",
       "      <td>Milt Wagner</td>\n",
       "      <td>40</td>\n",
       "      <td>9.5</td>\n",
       "      <td>3.8</td>\n",
       "      <td>1.6</td>\n",
       "      <td>3.7</td>\n",
       "      <td>42.2</td>\n",
       "      <td>0.1</td>\n",
       "      <td>0.3</td>\n",
       "      <td>20.0</td>\n",
       "      <td>...</td>\n",
       "      <td>0.7</td>\n",
       "      <td>89.7</td>\n",
       "      <td>0.1</td>\n",
       "      <td>0.6</td>\n",
       "      <td>0.7</td>\n",
       "      <td>1.5</td>\n",
       "      <td>0.1</td>\n",
       "      <td>0.1</td>\n",
       "      <td>0.6</td>\n",
       "      <td>0.0</td>\n",
       "    </tr>\n",
       "    <tr>\n",
       "      <th>1147</th>\n",
       "      <td>Adreian Payne</td>\n",
       "      <td>32</td>\n",
       "      <td>23.1</td>\n",
       "      <td>6.7</td>\n",
       "      <td>2.8</td>\n",
       "      <td>6.9</td>\n",
       "      <td>41.4</td>\n",
       "      <td>0.0</td>\n",
       "      <td>0.3</td>\n",
       "      <td>11.1</td>\n",
       "      <td>...</td>\n",
       "      <td>1.4</td>\n",
       "      <td>65.2</td>\n",
       "      <td>1.5</td>\n",
       "      <td>3.6</td>\n",
       "      <td>5.1</td>\n",
       "      <td>0.9</td>\n",
       "      <td>0.6</td>\n",
       "      <td>0.3</td>\n",
       "      <td>1.4</td>\n",
       "      <td>0.0</td>\n",
       "    </tr>\n",
       "    <tr>\n",
       "      <th>1181</th>\n",
       "      <td>Ray Owes</td>\n",
       "      <td>57</td>\n",
       "      <td>10.4</td>\n",
       "      <td>3.1</td>\n",
       "      <td>1.3</td>\n",
       "      <td>3.2</td>\n",
       "      <td>41.7</td>\n",
       "      <td>0.0</td>\n",
       "      <td>0.1</td>\n",
       "      <td>20.0</td>\n",
       "      <td>...</td>\n",
       "      <td>0.8</td>\n",
       "      <td>56.5</td>\n",
       "      <td>1.1</td>\n",
       "      <td>1.7</td>\n",
       "      <td>2.9</td>\n",
       "      <td>0.3</td>\n",
       "      <td>0.3</td>\n",
       "      <td>0.3</td>\n",
       "      <td>0.4</td>\n",
       "      <td>0.0</td>\n",
       "    </tr>\n",
       "    <tr>\n",
       "      <th>196</th>\n",
       "      <td>Tom Garrick</td>\n",
       "      <td>71</td>\n",
       "      <td>21.1</td>\n",
       "      <td>6.4</td>\n",
       "      <td>2.5</td>\n",
       "      <td>5.1</td>\n",
       "      <td>49.0</td>\n",
       "      <td>0.0</td>\n",
       "      <td>0.2</td>\n",
       "      <td>0.0</td>\n",
       "      <td>...</td>\n",
       "      <td>1.8</td>\n",
       "      <td>80.3</td>\n",
       "      <td>0.5</td>\n",
       "      <td>1.7</td>\n",
       "      <td>2.2</td>\n",
       "      <td>3.4</td>\n",
       "      <td>1.1</td>\n",
       "      <td>0.1</td>\n",
       "      <td>1.6</td>\n",
       "      <td>0.0</td>\n",
       "    </tr>\n",
       "    <tr>\n",
       "      <th>854</th>\n",
       "      <td>Charlie Villanueva</td>\n",
       "      <td>81</td>\n",
       "      <td>29.1</td>\n",
       "      <td>13.0</td>\n",
       "      <td>5.4</td>\n",
       "      <td>11.6</td>\n",
       "      <td>46.3</td>\n",
       "      <td>0.9</td>\n",
       "      <td>2.6</td>\n",
       "      <td>32.7</td>\n",
       "      <td>...</td>\n",
       "      <td>2.0</td>\n",
       "      <td>70.6</td>\n",
       "      <td>2.2</td>\n",
       "      <td>4.2</td>\n",
       "      <td>6.4</td>\n",
       "      <td>1.1</td>\n",
       "      <td>0.7</td>\n",
       "      <td>0.8</td>\n",
       "      <td>1.2</td>\n",
       "      <td>1.0</td>\n",
       "    </tr>\n",
       "  </tbody>\n",
       "</table>\n",
       "<p>10 rows × 21 columns</p>\n",
       "</div>"
      ],
      "text/plain": [
       "                    Name  GamesPlayed  MinutesPlayed  PointsPerGame  \\\n",
       "456       Brandon Davies           51           11.3            2.8   \n",
       "303       Chris Washburn           35           11.0            3.8   \n",
       "772         Devin Booker           76           27.7           13.8   \n",
       "1298        Corie Blount           67           10.3            3.0   \n",
       "829            Allan Ray           47           15.1            6.2   \n",
       "262          Milt Wagner           40            9.5            3.8   \n",
       "1147       Adreian Payne           32           23.1            6.7   \n",
       "1181            Ray Owes           57           10.4            3.1   \n",
       "196          Tom Garrick           71           21.1            6.4   \n",
       "854   Charlie Villanueva           81           29.1           13.0   \n",
       "\n",
       "      FieldGoalsMade  FieldGoalAttempts  FieldGoalPercent  3PointMade  \\\n",
       "456              1.1                2.5              42.2         0.0   \n",
       "303              1.6                4.1              39.3         0.0   \n",
       "772              4.8               11.4              42.3         1.3   \n",
       "1298             1.1                2.6              43.7         0.0   \n",
       "829              2.1                5.5              38.6         1.0   \n",
       "262              1.6                3.7              42.2         0.1   \n",
       "1147             2.8                6.9              41.4         0.0   \n",
       "1181             1.3                3.2              41.7         0.0   \n",
       "196              2.5                5.1              49.0         0.0   \n",
       "854              5.4               11.6              46.3         0.9   \n",
       "\n",
       "      3PointAttempts  3PointAttemptsPercent  ...  FreeThrowAttempts  \\\n",
       "456              0.2                   20.0  ...                1.0   \n",
       "303              0.0                    0.0  ...                1.5   \n",
       "772              3.8                   34.3  ...                3.4   \n",
       "1298             0.0                    0.0  ...                1.1   \n",
       "829              2.5                   41.4  ...                1.2   \n",
       "262              0.3                   20.0  ...                0.7   \n",
       "1147             0.3                   11.1  ...                1.4   \n",
       "1181             0.1                   20.0  ...                0.8   \n",
       "196              0.2                    0.0  ...                1.8   \n",
       "854              2.6                   32.7  ...                2.0   \n",
       "\n",
       "      FreeThrowPercent  OffensiveRebounds  DefensiveRebounds  Rebounds  \\\n",
       "456               64.2                0.7                1.4       2.1   \n",
       "303               35.3                1.0                1.9       2.9   \n",
       "772               84.0                0.4                2.1       2.5   \n",
       "1298              61.3                1.1                1.8       2.9   \n",
       "829               76.4                0.4                1.1       1.5   \n",
       "262               89.7                0.1                0.6       0.7   \n",
       "1147              65.2                1.5                3.6       5.1   \n",
       "1181              56.5                1.1                1.7       2.9   \n",
       "196               80.3                0.5                1.7       2.2   \n",
       "854               70.6                2.2                4.2       6.4   \n",
       "\n",
       "      Assists  Steals  Blocks  Turnovers  CareerLongerThan5Years  \n",
       "456       0.5     0.5     0.2        0.7                     0.0  \n",
       "303       0.5     0.2     0.2        1.1                     0.0  \n",
       "772       2.6     0.6     0.3        2.1                     0.0  \n",
       "1298      0.8     0.3     0.5        0.8                     1.0  \n",
       "829       0.9     0.4     0.1        0.9                     0.0  \n",
       "262       1.5     0.1     0.1        0.6                     0.0  \n",
       "1147      0.9     0.6     0.3        1.4                     0.0  \n",
       "1181      0.3     0.3     0.3        0.4                     0.0  \n",
       "196       3.4     1.1     0.1        1.6                     0.0  \n",
       "854       1.1     0.7     0.8        1.2                     1.0  \n",
       "\n",
       "[10 rows x 21 columns]"
      ]
     },
     "execution_count": 2,
     "metadata": {},
     "output_type": "execute_result"
    }
   ],
   "source": [
    "import pandas as pd\n",
    "from sklearn.ensemble import RandomForestClassifier\n",
    "from sklearn.model_selection import train_test_split \n",
    "from sklearn import metrics\n",
    "from sklearn.model_selection import cross_val_score\n",
    "import matplotlib.pyplot as plt\n",
    "\n",
    "nba_data = pd.read_csv('../output/new_nba_data.csv')\n",
    "nba_data.sample(10, random_state=50)"
   ]
  },
  {
   "attachments": {},
   "cell_type": "markdown",
   "id": "52795660",
   "metadata": {},
   "source": [
    "The names of the players are not required for decisions, so we will be ignoring it"
   ]
  },
  {
   "cell_type": "code",
   "execution_count": 3,
   "id": "bfba2602",
   "metadata": {},
   "outputs": [],
   "source": [
    "nba_data.drop('Name', inplace=True, axis=1)"
   ]
  },
  {
   "cell_type": "code",
   "execution_count": 4,
   "id": "2407e237",
   "metadata": {},
   "outputs": [
    {
     "name": "stdout",
     "output_type": "stream",
     "text": [
      "Accuracy: 69.25%\n",
      "Recall: 78.85%\n",
      "Precision: 73.54%\n",
      "F1 Score: 76.10%\n"
     ]
    }
   ],
   "source": [
    "X = nba_data[nba_data.columns[:-1]]\n",
    "y = nba_data['CareerLongerThan5Years']\n",
    "train_X, test_X, train_y, test_y = train_test_split(X, y, random_state=50,stratify=y)\n",
    "dt_model = RandomForestClassifier(random_state=50)\n",
    "dt_model.fit(train_X, train_y)\n",
    "pred_y = dt_model.predict(test_X)\n",
    "\n",
    "print('Accuracy: {:.2%}'.format(metrics.accuracy_score(test_y, pred_y))) \n",
    "print('Recall: {:.2%}'.format(metrics.recall_score(test_y, pred_y))) \n",
    "print('Precision: {:.2%}'.format(metrics.precision_score(test_y, pred_y))) \n",
    "print('F1 Score: {:.2%}'.format(metrics.f1_score(test_y, pred_y)))"
   ]
  },
  {
   "attachments": {},
   "cell_type": "markdown",
   "id": "0f948ec4",
   "metadata": {},
   "source": [
    "The accuracy of 69% is pretty low. So let's try using a Cross-Validation to see if the random split affects our test."
   ]
  },
  {
   "cell_type": "code",
   "execution_count": 5,
   "id": "d68923db",
   "metadata": {},
   "outputs": [
    {
     "data": {
      "text/plain": [
       "0.6813432835820896"
      ]
     },
     "execution_count": 5,
     "metadata": {},
     "output_type": "execute_result"
    }
   ],
   "source": [
    "scores = cross_val_score(dt_model, X, y, scoring='accuracy', cv=5)\n",
    "scores.mean()"
   ]
  },
  {
   "attachments": {},
   "cell_type": "markdown",
   "id": "621c2224",
   "metadata": {},
   "source": [
    "By using cross validation, the score is 68%. Let's take a look at the Feature Importances."
   ]
  },
  {
   "cell_type": "code",
   "execution_count": 6,
   "id": "4aaa4236",
   "metadata": {},
   "outputs": [
    {
     "data": {
      "text/plain": [
       "GamesPlayed              0.120035\n",
       "PointsPerGame            0.072762\n",
       "FieldGoalPercent         0.069790\n",
       "FreeThrowPercent         0.063547\n",
       "MinutesPlayed            0.060657\n",
       "FieldGoalsMade           0.060537\n",
       "FreeThrowMade            0.054399\n",
       "FieldGoalAttempts        0.054145\n",
       "DefensiveRebounds        0.051616\n",
       "FreeThrowAttempts        0.050959\n",
       "Rebounds                 0.048327\n",
       "Assists                  0.046434\n",
       "3PointAttemptsPercent    0.046243\n",
       "OffensiveRebounds        0.044278\n",
       "Turnovers                0.039989\n",
       "3PointAttempts           0.033868\n",
       "Blocks                   0.030166\n",
       "Steals                   0.030091\n",
       "3PointMade               0.022158\n",
       "dtype: float64"
      ]
     },
     "execution_count": 6,
     "metadata": {},
     "output_type": "execute_result"
    }
   ],
   "source": [
    "feature_importances = pd.Series(dt_model.feature_importances_, index=nba_data.columns[:-1])\n",
    "feature_importances.sort_values(ascending=False)"
   ]
  },
  {
   "cell_type": "code",
   "execution_count": 7,
   "id": "f587273f",
   "metadata": {},
   "outputs": [
    {
     "data": {
      "text/plain": [
       "<AxesSubplot: >"
      ]
     },
     "execution_count": 7,
     "metadata": {},
     "output_type": "execute_result"
    },
    {
     "data": {
      "image/png": "[encoded data removed]",
      "text/plain": [
       "<Figure size 640x480 with 1 Axes>"
      ]
     },
     "metadata": {},
     "output_type": "display_data"
    }
   ],
   "source": [
    "feature_importances.nlargest(5).plot(kind='bar')"
   ]
  },
  {
   "attachments": {},
   "cell_type": "markdown",
   "id": "71dede00",
   "metadata": {},
   "source": [
    "First, let's try the train-validation-test method to play around with the hyperparameters. we'll use a 70%-15%-15% split."
   ]
  },
  {
   "cell_type": "code",
   "execution_count": 8,
   "id": "61be31e9",
   "metadata": {},
   "outputs": [
    {
     "data": {
      "text/plain": [
       "array([<AxesSubplot: ylabel='0'>], dtype=object)"
      ]
     },
     "execution_count": 8,
     "metadata": {},
     "output_type": "execute_result"
    },
    {
     "data": {
      "image/png": "[encoded data removed]",
      "text/plain": [
       "<Figure size 640x480 with 1 Axes>"
      ]
     },
     "metadata": {},
     "output_type": "display_data"
    }
   ],
   "source": [
    "X_train, X_test_full, y_train, y_test_full = train_test_split(X, y, random_state=50, test_size=0.3)\n",
    "X_val, X_test, y_val, y_test = train_test_split(X_test_full, y_test_full, random_state=50, test_size=0.3)\n",
    "\n",
    "pd.DataFrame([len(y_train), len(y_val), len(y_test)], index=['train','validation', 'test']).plot(kind='pie', subplots=True)"
   ]
  },
  {
   "attachments": {},
   "cell_type": "markdown",
   "id": "98c0f32a",
   "metadata": {},
   "source": [
    "Let's verify if the data has been split correctly."
   ]
  },
  {
   "cell_type": "code",
   "execution_count": 9,
   "id": "99f8a1f4",
   "metadata": {},
   "outputs": [
    {
     "data": {
      "text/plain": [
       "<AxesSubplot: title={'center': 'test'}, ylabel='CareerLongerThan5Years'>"
      ]
     },
     "execution_count": 9,
     "metadata": {},
     "output_type": "execute_result"
    },
    {
     "data": {
      "image/png": "[encoded data removed]",
      "text/plain": [
       "<Figure size 1200x600 with 3 Axes>"
      ]
     },
     "metadata": {},
     "output_type": "display_data"
    }
   ],
   "source": [
    "fig, (ax1, ax2, ax3) = plt.subplots(1, 3, figsize=(12,6))\n",
    "y_train.value_counts().plot(kind='pie', ax=ax1, title='train')\n",
    "y_val.value_counts().plot(kind='pie', ax=ax2, title='val')\n",
    "y_test.value_counts().plot(kind='pie', ax=ax3, title='test')"
   ]
  },
  {
   "cell_type": "code",
   "execution_count": 10,
   "id": "5298ef39",
   "metadata": {},
   "outputs": [
    {
     "name": "stdout",
     "output_type": "stream",
     "text": [
      "Accuracy: 65.12%\n"
     ]
    }
   ],
   "source": [
    "dt_model = RandomForestClassifier(random_state=50) \n",
    "dt_model.fit(X_train, y_train)\n",
    "y_pred = dt_model.predict(X_val)\n",
    "accuracy_score = metrics.accuracy_score(y_val, y_pred)\n",
    "print('Accuracy: {:.2%}'.format(accuracy_score)) "
   ]
  },
  {
   "attachments": {},
   "cell_type": "markdown",
   "id": "b060a35d",
   "metadata": {},
   "source": [
    "Let's play with the hyperparameters and see if we can get a better result. Let's start with max depth."
   ]
  },
  {
   "cell_type": "code",
   "execution_count": 11,
   "id": "8dda9edc",
   "metadata": {},
   "outputs": [
    {
     "name": "stdout",
     "output_type": "stream",
     "text": [
      "max depth 1: 64.77% accuracy on validation set.\n",
      "--------------------\n",
      "max depth 2: 65.84% accuracy on validation set.\n",
      "--------------------\n",
      "max depth 3: 66.55% accuracy on validation set.\n",
      "--------------------\n",
      "max depth 4: 67.62% accuracy on validation set.\n",
      "--------------------\n",
      "max depth 5: 67.97% accuracy on validation set.\n",
      "--------------------\n",
      "best max depth 5 has 67.97% accuracy.\n"
     ]
    }
   ],
   "source": [
    "def train_and_find_best_depth(X_train, X_val, y_train, y_val, do_print): \n",
    "    result = None\n",
    "    accuracy_max = -1\n",
    "    for curr_max_depth in range(1, 20):\n",
    "        dt_model = RandomForestClassifier(max_depth=curr_max_depth,random_state=50) \n",
    "        dt_model.fit(X_train, y_train)\n",
    "        y_pred = dt_model.predict(X_val)\n",
    "        accuracy_score = metrics.accuracy_score(y_val, y_pred)\n",
    "\n",
    "        if accuracy_score >= accuracy_max: \n",
    "            accuracy_max = accuracy_score \n",
    "            result = curr_max_depth\n",
    "            if do_print:\n",
    "                print('max depth {}: {:.2%} accuracy on validation set.'.format(curr_max_depth, accuracy_score))\n",
    "            if do_print: \n",
    "                print('-' * 20)\n",
    "    print('best max depth {} has {:.2%} accuracy.'.format(result,accuracy_max))\n",
    "\n",
    "    return result\n",
    "    \n",
    "best_max_depth = train_and_find_best_depth(X_train, X_val, y_train, y_val, True)"
   ]
  },
  {
   "attachments": {},
   "cell_type": "markdown",
   "id": "c07feb52",
   "metadata": {},
   "source": [
    "Let's continue with n_estimators. AKA the number of trees in the forest."
   ]
  },
  {
   "cell_type": "code",
   "execution_count": 12,
   "id": "ab30ed80",
   "metadata": {},
   "outputs": [
    {
     "name": "stdout",
     "output_type": "stream",
     "text": [
      "n estimators 1: 57.30% accuracy on validation set.\n",
      "--------------------\n",
      "n estimators 2: 57.30% accuracy on validation set.\n",
      "--------------------\n",
      "n estimators 3: 59.43% accuracy on validation set.\n",
      "--------------------\n",
      "n estimators 4: 60.14% accuracy on validation set.\n",
      "--------------------\n",
      "n estimators 5: 62.28% accuracy on validation set.\n",
      "--------------------\n",
      "n estimators 6: 62.99% accuracy on validation set.\n",
      "--------------------\n",
      "n estimators 7: 64.06% accuracy on validation set.\n",
      "--------------------\n",
      "n estimators 8: 65.12% accuracy on validation set.\n",
      "--------------------\n",
      "n estimators 10: 65.84% accuracy on validation set.\n",
      "--------------------\n",
      "n estimators 18: 65.84% accuracy on validation set.\n",
      "--------------------\n",
      "n estimators 24: 66.19% accuracy on validation set.\n",
      "--------------------\n",
      "n estimators 28: 66.90% accuracy on validation set.\n",
      "--------------------\n",
      "n estimators 30: 67.26% accuracy on validation set.\n",
      "--------------------\n",
      "n estimators 30 has 67.26% accuracy.\n"
     ]
    }
   ],
   "source": [
    "def train_and_find_n_estimators(X_train, X_val, y_train, y_val, do_print): \n",
    "    result = None\n",
    "    accuracy_max = -1\n",
    "    for n_estimators in range(1, 100):\n",
    "        dt_model = RandomForestClassifier(n_estimators=n_estimators,random_state=50) \n",
    "        dt_model.fit(X_train, y_train)\n",
    "        y_pred = dt_model.predict(X_val)\n",
    "        accuracy_score = metrics.accuracy_score(y_val, y_pred)\n",
    "\n",
    "        if accuracy_score >= accuracy_max: \n",
    "            accuracy_max = accuracy_score \n",
    "            result = n_estimators\n",
    "            if do_print:\n",
    "                print('n estimators {}: {:.2%} accuracy on validation set.'.format(n_estimators, accuracy_score))\n",
    "            if do_print: \n",
    "                print('-' * 20)\n",
    "    print('n estimators {} has {:.2%} accuracy.'.format(result,accuracy_max))\n",
    "\n",
    "    return result\n",
    "    \n",
    "best_n_estimators = train_and_find_n_estimators(X_train, X_val, y_train, y_val, True)"
   ]
  },
  {
   "attachments": {},
   "cell_type": "markdown",
   "id": "a68290fa",
   "metadata": {},
   "source": [
    "Now let's try to adjust the min_samples_split parameter which is the minimal number of different data placed in a node before the node is split"
   ]
  },
  {
   "cell_type": "code",
   "execution_count": 13,
   "id": "258a029b",
   "metadata": {},
   "outputs": [
    {
     "name": "stdout",
     "output_type": "stream",
     "text": [
      "min samples split 2: 65.12% accuracy on validation set.\n",
      "--------------------\n",
      "min samples split 3: 65.12% accuracy on validation set.\n",
      "--------------------\n",
      "min samples split 4: 66.19% accuracy on validation set.\n",
      "--------------------\n",
      "min samples split 5: 66.55% accuracy on validation set.\n",
      "--------------------\n",
      "min samples split 7: 66.55% accuracy on validation set.\n",
      "--------------------\n",
      "min samples split 8: 66.90% accuracy on validation set.\n",
      "--------------------\n",
      "min samples split 9: 67.97% accuracy on validation set.\n",
      "--------------------\n",
      "min samples split 19: 68.33% accuracy on validation set.\n",
      "--------------------\n",
      "min samples split 19 has 68.33% accuracy.\n"
     ]
    }
   ],
   "source": [
    "def train_and_find_min_samples_split(X_train, X_val, y_train, y_val, do_print): \n",
    "    result = None\n",
    "    accuracy_max = -1\n",
    "    for min_samples_split in range(2, 20):\n",
    "        dt_model = RandomForestClassifier(min_samples_split=min_samples_split,random_state=50) \n",
    "        dt_model.fit(X_train, y_train)\n",
    "        y_pred = dt_model.predict(X_val)\n",
    "        accuracy_score = metrics.accuracy_score(y_val, y_pred)\n",
    "\n",
    "        if accuracy_score >= accuracy_max: \n",
    "            accuracy_max = accuracy_score \n",
    "            result = min_samples_split\n",
    "            if do_print:\n",
    "                print('min samples split {}: {:.2%} accuracy on validation set.'.format(min_samples_split, accuracy_score))\n",
    "            if do_print: \n",
    "                print('-' * 20)\n",
    "    print('min samples split {} has {:.2%} accuracy.'.format(result,accuracy_max))\n",
    "\n",
    "    return result\n",
    "\n",
    "min_samples_split = train_and_find_min_samples_split(X_train, X_val, y_train, y_val, True)"
   ]
  },
  {
   "attachments": {},
   "cell_type": "markdown",
   "id": "888f7959",
   "metadata": {},
   "source": [
    "Let's try the max_features parameter. It is the max number of features who are considered when splitting a node."
   ]
  },
  {
   "cell_type": "code",
   "execution_count": 14,
   "id": "c975ef9a",
   "metadata": {},
   "outputs": [
    {
     "name": "stdout",
     "output_type": "stream",
     "text": [
      "max features split 1: 66.19% accuracy on validation set.\n",
      "--------------------\n",
      "max features split 9: 68.33% accuracy on validation set.\n",
      "--------------------\n",
      "max features split 9 has 68.33% accuracy.\n"
     ]
    }
   ],
   "source": [
    "def train_and_find_max_features(X_train, X_val, y_train, y_val, do_print): \n",
    "    result = None\n",
    "    accuracy_max = -1\n",
    "    for max_features in range(1, 20):\n",
    "        dt_model = RandomForestClassifier(max_features=max_features,random_state=50) \n",
    "        dt_model.fit(X_train, y_train)\n",
    "        y_pred = dt_model.predict(X_val)\n",
    "        accuracy_score = metrics.accuracy_score(y_val, y_pred)\n",
    "\n",
    "        if accuracy_score >= accuracy_max: \n",
    "            accuracy_max = accuracy_score \n",
    "            result = max_features\n",
    "            if do_print:\n",
    "                print('max features split {}: {:.2%} accuracy on validation set.'.format(max_features, accuracy_score))\n",
    "            if do_print: \n",
    "                print('-' * 20)\n",
    "    print('max features split {} has {:.2%} accuracy.'.format(result,accuracy_max))\n",
    "\n",
    "    return result\n",
    "\n",
    "max_features = train_and_find_max_features(X_train, X_val, y_train, y_val, True)"
   ]
  },
  {
   "cell_type": "code",
   "execution_count": 16,
   "id": "ee530d1d",
   "metadata": {},
   "outputs": [
    {
     "name": "stdout",
     "output_type": "stream",
     "text": [
      "Accuracy: 71.90%\n",
      "Recall: 83.33%\n",
      "Precision: 70.51%\n",
      "F1 Score: 76.39%\n"
     ]
    }
   ],
   "source": [
    "dt_model = RandomForestClassifier(max_depth=best_max_depth,n_estimators=best_n_estimators, random_state=50, min_samples_split=min_samples_split,max_features=max_features)\n",
    "dt_model.fit(X_train, y_train)\n",
    "y_pred = dt_model.predict(X_test)\n",
    "accuracy_score_imputed = metrics.accuracy_score(y_test, y_pred) \n",
    "print('Accuracy: {:.2%}'.format(metrics.accuracy_score(y_test, y_pred))) \n",
    "print('Recall: {:.2%}'.format(metrics.recall_score(y_test, y_pred))) \n",
    "print('Precision: {:.2%}'.format(metrics.precision_score(y_test, y_pred))) \n",
    "print('F1 Score: {:.2%}'.format(metrics.f1_score(y_test, y_pred)))"
   ]
  },
  {
   "attachments": {},
   "cell_type": "markdown",
   "id": "507dd8dd",
   "metadata": {},
   "source": [
    "Imputing data is not required. The only data that we missed were the Percent of successful 3-Throws of players who did not have any 3 Throws (0)"
   ]
  },
  {
   "attachments": {},
   "cell_type": "markdown",
   "id": "2a3ea8df",
   "metadata": {},
   "source": [
    "By using the train-validation test method without any hyperparameters, an accuracy of 65% has been reached. By adding hyperparameters, it rose up to ca. 72%. Which is a little higher than the train-test split method (69.3%)."
   ]
  },
  {
   "cell_type": "markdown",
   "id": "dc7ead16",
   "metadata": {},
   "source": []
  }
 ],
 "metadata": {
  "kernelspec": {
   "display_name": "leoenv",
   "language": "python",
   "name": "python3"
  },
  "language_info": {
   "codemirror_mode": {
    "name": "ipython",
    "version": 3
   },
   "file_extension": ".py",
   "mimetype": "text/x-python",
   "name": "python",
   "nbconvert_exporter": "python",
   "pygments_lexer": "ipython3",
   "version": "3.10.6"
  },
  "vscode": {
   "interpreter": {
    "hash": "8a89a6e4eb707d2dc3e9fd45b516a69203ba6d49fbd97b589b2c61b9d20e8794"
   }
  }
 },
 "nbformat": 4,
 "nbformat_minor": 5
}
