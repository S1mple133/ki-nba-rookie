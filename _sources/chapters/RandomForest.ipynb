{
 "cells": [
  {
   "attachments": {},
   "cell_type": "markdown",
   "id": "55f9b703",
   "metadata": {},
   "source": [
    "# Random Forest\n",
    " \n",
    "Use the Random Forest Algorithm to train and test a model."
   ]
  },
  {
   "cell_type": "code",
   "execution_count": 75,
   "id": "f20c8221",
   "metadata": {},
   "outputs": [
    {
     "data": {
      "text/html": [
       "<div>\n",
       "<style scoped>\n",
       "    .dataframe tbody tr th:only-of-type {\n",
       "        vertical-align: middle;\n",
       "    }\n",
       "\n",
       "    .dataframe tbody tr th {\n",
       "        vertical-align: top;\n",
       "    }\n",
       "\n",
       "    .dataframe thead th {\n",
       "        text-align: right;\n",
       "    }\n",
       "</style>\n",
       "<table border=\"1\" class=\"dataframe\">\n",
       "  <thead>\n",
       "    <tr style=\"text-align: right;\">\n",
       "      <th></th>\n",
       "      <th>Name</th>\n",
       "      <th>GamesPlayed</th>\n",
       "      <th>MinutesPlayed</th>\n",
       "      <th>PointsPerGame</th>\n",
       "      <th>FieldGoalsMade</th>\n",
       "      <th>FieldGoalAttempts</th>\n",
       "      <th>FieldGoalPercent</th>\n",
       "      <th>3PointMade</th>\n",
       "      <th>3PointAttempts</th>\n",
       "      <th>3PointAttemptsPercent</th>\n",
       "      <th>...</th>\n",
       "      <th>FreeThrowAttempts</th>\n",
       "      <th>FreeThrowPercent</th>\n",
       "      <th>OffensiveRebounds</th>\n",
       "      <th>DefensiveRebounds</th>\n",
       "      <th>Rebounds</th>\n",
       "      <th>Assists</th>\n",
       "      <th>Steals</th>\n",
       "      <th>Blocks</th>\n",
       "      <th>Turnovers</th>\n",
       "      <th>CareerLongerThan5Years</th>\n",
       "    </tr>\n",
       "  </thead>\n",
       "  <tbody>\n",
       "    <tr>\n",
       "      <th>1243</th>\n",
       "      <td>Tyler Johnson</td>\n",
       "      <td>32</td>\n",
       "      <td>18.8</td>\n",
       "      <td>5.9</td>\n",
       "      <td>2.2</td>\n",
       "      <td>5.2</td>\n",
       "      <td>41.9</td>\n",
       "      <td>0.6</td>\n",
       "      <td>1.5</td>\n",
       "      <td>37.5</td>\n",
       "      <td>...</td>\n",
       "      <td>1.5</td>\n",
       "      <td>68.1</td>\n",
       "      <td>0.4</td>\n",
       "      <td>2.1</td>\n",
       "      <td>2.5</td>\n",
       "      <td>1.3</td>\n",
       "      <td>1.0</td>\n",
       "      <td>0.3</td>\n",
       "      <td>0.9</td>\n",
       "      <td>0.0</td>\n",
       "    </tr>\n",
       "    <tr>\n",
       "      <th>1134</th>\n",
       "      <td>Eric Washington</td>\n",
       "      <td>66</td>\n",
       "      <td>23.3</td>\n",
       "      <td>7.7</td>\n",
       "      <td>3.0</td>\n",
       "      <td>7.5</td>\n",
       "      <td>40.4</td>\n",
       "      <td>0.7</td>\n",
       "      <td>2.1</td>\n",
       "      <td>32.1</td>\n",
       "      <td>...</td>\n",
       "      <td>1.3</td>\n",
       "      <td>78.3</td>\n",
       "      <td>0.7</td>\n",
       "      <td>1.2</td>\n",
       "      <td>1.9</td>\n",
       "      <td>1.2</td>\n",
       "      <td>0.8</td>\n",
       "      <td>0.4</td>\n",
       "      <td>1.1</td>\n",
       "      <td>0.0</td>\n",
       "    </tr>\n",
       "    <tr>\n",
       "      <th>507</th>\n",
       "      <td>Sam Williams</td>\n",
       "      <td>59</td>\n",
       "      <td>18.2</td>\n",
       "      <td>6.1</td>\n",
       "      <td>2.6</td>\n",
       "      <td>4.7</td>\n",
       "      <td>55.6</td>\n",
       "      <td>0.0</td>\n",
       "      <td>0.0</td>\n",
       "      <td>0.0</td>\n",
       "      <td>...</td>\n",
       "      <td>1.5</td>\n",
       "      <td>55.1</td>\n",
       "      <td>1.5</td>\n",
       "      <td>3.7</td>\n",
       "      <td>5.2</td>\n",
       "      <td>0.6</td>\n",
       "      <td>0.8</td>\n",
       "      <td>1.3</td>\n",
       "      <td>1.1</td>\n",
       "      <td>0.0</td>\n",
       "    </tr>\n",
       "    <tr>\n",
       "      <th>279</th>\n",
       "      <td>John Williams</td>\n",
       "      <td>78</td>\n",
       "      <td>22.7</td>\n",
       "      <td>9.2</td>\n",
       "      <td>3.6</td>\n",
       "      <td>8.0</td>\n",
       "      <td>45.4</td>\n",
       "      <td>0.1</td>\n",
       "      <td>0.5</td>\n",
       "      <td>22.2</td>\n",
       "      <td>...</td>\n",
       "      <td>2.9</td>\n",
       "      <td>64.6</td>\n",
       "      <td>1.7</td>\n",
       "      <td>3.0</td>\n",
       "      <td>4.7</td>\n",
       "      <td>2.4</td>\n",
       "      <td>1.6</td>\n",
       "      <td>0.4</td>\n",
       "      <td>1.6</td>\n",
       "      <td>1.0</td>\n",
       "    </tr>\n",
       "    <tr>\n",
       "      <th>512</th>\n",
       "      <td>Jim Brogan</td>\n",
       "      <td>63</td>\n",
       "      <td>16.3</td>\n",
       "      <td>6.3</td>\n",
       "      <td>2.6</td>\n",
       "      <td>5.8</td>\n",
       "      <td>45.3</td>\n",
       "      <td>0.1</td>\n",
       "      <td>0.5</td>\n",
       "      <td>28.1</td>\n",
       "      <td>...</td>\n",
       "      <td>1.3</td>\n",
       "      <td>72.6</td>\n",
       "      <td>1.0</td>\n",
       "      <td>0.9</td>\n",
       "      <td>1.9</td>\n",
       "      <td>2.5</td>\n",
       "      <td>0.8</td>\n",
       "      <td>0.2</td>\n",
       "      <td>1.3</td>\n",
       "      <td>0.0</td>\n",
       "    </tr>\n",
       "    <tr>\n",
       "      <th>103</th>\n",
       "      <td>Tate George</td>\n",
       "      <td>56</td>\n",
       "      <td>10.6</td>\n",
       "      <td>3.4</td>\n",
       "      <td>1.4</td>\n",
       "      <td>3.4</td>\n",
       "      <td>41.5</td>\n",
       "      <td>0.0</td>\n",
       "      <td>0.0</td>\n",
       "      <td>0.0</td>\n",
       "      <td>...</td>\n",
       "      <td>0.7</td>\n",
       "      <td>80.0</td>\n",
       "      <td>0.3</td>\n",
       "      <td>0.5</td>\n",
       "      <td>0.8</td>\n",
       "      <td>1.9</td>\n",
       "      <td>0.5</td>\n",
       "      <td>0.1</td>\n",
       "      <td>0.8</td>\n",
       "      <td>0.0</td>\n",
       "    </tr>\n",
       "    <tr>\n",
       "      <th>33</th>\n",
       "      <td>Bison Dele</td>\n",
       "      <td>48</td>\n",
       "      <td>18.9</td>\n",
       "      <td>9.1</td>\n",
       "      <td>3.6</td>\n",
       "      <td>6.8</td>\n",
       "      <td>52.8</td>\n",
       "      <td>0.0</td>\n",
       "      <td>0.0</td>\n",
       "      <td>0.0</td>\n",
       "      <td>...</td>\n",
       "      <td>3.0</td>\n",
       "      <td>66.9</td>\n",
       "      <td>2.4</td>\n",
       "      <td>3.3</td>\n",
       "      <td>5.7</td>\n",
       "      <td>0.7</td>\n",
       "      <td>0.8</td>\n",
       "      <td>1.1</td>\n",
       "      <td>1.8</td>\n",
       "      <td>1.0</td>\n",
       "    </tr>\n",
       "    <tr>\n",
       "      <th>783</th>\n",
       "      <td>Corey Brewer</td>\n",
       "      <td>79</td>\n",
       "      <td>22.8</td>\n",
       "      <td>5.8</td>\n",
       "      <td>2.3</td>\n",
       "      <td>6.2</td>\n",
       "      <td>37.4</td>\n",
       "      <td>0.1</td>\n",
       "      <td>0.5</td>\n",
       "      <td>19.4</td>\n",
       "      <td>...</td>\n",
       "      <td>1.4</td>\n",
       "      <td>80.0</td>\n",
       "      <td>1.0</td>\n",
       "      <td>2.7</td>\n",
       "      <td>3.7</td>\n",
       "      <td>1.4</td>\n",
       "      <td>1.0</td>\n",
       "      <td>0.3</td>\n",
       "      <td>1.1</td>\n",
       "      <td>1.0</td>\n",
       "    </tr>\n",
       "    <tr>\n",
       "      <th>1254</th>\n",
       "      <td>Monty Williams</td>\n",
       "      <td>41</td>\n",
       "      <td>12.3</td>\n",
       "      <td>3.3</td>\n",
       "      <td>1.5</td>\n",
       "      <td>3.2</td>\n",
       "      <td>45.1</td>\n",
       "      <td>0.0</td>\n",
       "      <td>0.2</td>\n",
       "      <td>0.0</td>\n",
       "      <td>...</td>\n",
       "      <td>0.9</td>\n",
       "      <td>44.7</td>\n",
       "      <td>1.0</td>\n",
       "      <td>1.4</td>\n",
       "      <td>2.4</td>\n",
       "      <td>1.2</td>\n",
       "      <td>0.5</td>\n",
       "      <td>0.1</td>\n",
       "      <td>1.0</td>\n",
       "      <td>1.0</td>\n",
       "    </tr>\n",
       "    <tr>\n",
       "      <th>291</th>\n",
       "      <td>Dennis Rodman*</td>\n",
       "      <td>77</td>\n",
       "      <td>15.0</td>\n",
       "      <td>6.5</td>\n",
       "      <td>2.8</td>\n",
       "      <td>5.1</td>\n",
       "      <td>54.5</td>\n",
       "      <td>0.0</td>\n",
       "      <td>0.0</td>\n",
       "      <td>0.0</td>\n",
       "      <td>...</td>\n",
       "      <td>1.6</td>\n",
       "      <td>58.7</td>\n",
       "      <td>2.1</td>\n",
       "      <td>2.2</td>\n",
       "      <td>4.3</td>\n",
       "      <td>0.7</td>\n",
       "      <td>0.5</td>\n",
       "      <td>0.6</td>\n",
       "      <td>1.2</td>\n",
       "      <td>1.0</td>\n",
       "    </tr>\n",
       "  </tbody>\n",
       "</table>\n",
       "<p>10 rows × 21 columns</p>\n",
       "</div>"
      ],
      "text/plain": [
       "                 Name  GamesPlayed  MinutesPlayed  PointsPerGame  \\\n",
       "1243    Tyler Johnson           32           18.8            5.9   \n",
       "1134  Eric Washington           66           23.3            7.7   \n",
       "507      Sam Williams           59           18.2            6.1   \n",
       "279     John Williams           78           22.7            9.2   \n",
       "512        Jim Brogan           63           16.3            6.3   \n",
       "103       Tate George           56           10.6            3.4   \n",
       "33         Bison Dele           48           18.9            9.1   \n",
       "783      Corey Brewer           79           22.8            5.8   \n",
       "1254   Monty Williams           41           12.3            3.3   \n",
       "291    Dennis Rodman*           77           15.0            6.5   \n",
       "\n",
       "      FieldGoalsMade  FieldGoalAttempts  FieldGoalPercent  3PointMade  \\\n",
       "1243             2.2                5.2              41.9         0.6   \n",
       "1134             3.0                7.5              40.4         0.7   \n",
       "507              2.6                4.7              55.6         0.0   \n",
       "279              3.6                8.0              45.4         0.1   \n",
       "512              2.6                5.8              45.3         0.1   \n",
       "103              1.4                3.4              41.5         0.0   \n",
       "33               3.6                6.8              52.8         0.0   \n",
       "783              2.3                6.2              37.4         0.1   \n",
       "1254             1.5                3.2              45.1         0.0   \n",
       "291              2.8                5.1              54.5         0.0   \n",
       "\n",
       "      3PointAttempts  3PointAttemptsPercent  ...  FreeThrowAttempts  \\\n",
       "1243             1.5                   37.5  ...                1.5   \n",
       "1134             2.1                   32.1  ...                1.3   \n",
       "507              0.0                    0.0  ...                1.5   \n",
       "279              0.5                   22.2  ...                2.9   \n",
       "512              0.5                   28.1  ...                1.3   \n",
       "103              0.0                    0.0  ...                0.7   \n",
       "33               0.0                    0.0  ...                3.0   \n",
       "783              0.5                   19.4  ...                1.4   \n",
       "1254             0.2                    0.0  ...                0.9   \n",
       "291              0.0                    0.0  ...                1.6   \n",
       "\n",
       "      FreeThrowPercent  OffensiveRebounds  DefensiveRebounds  Rebounds  \\\n",
       "1243              68.1                0.4                2.1       2.5   \n",
       "1134              78.3                0.7                1.2       1.9   \n",
       "507               55.1                1.5                3.7       5.2   \n",
       "279               64.6                1.7                3.0       4.7   \n",
       "512               72.6                1.0                0.9       1.9   \n",
       "103               80.0                0.3                0.5       0.8   \n",
       "33                66.9                2.4                3.3       5.7   \n",
       "783               80.0                1.0                2.7       3.7   \n",
       "1254              44.7                1.0                1.4       2.4   \n",
       "291               58.7                2.1                2.2       4.3   \n",
       "\n",
       "      Assists  Steals  Blocks  Turnovers  CareerLongerThan5Years  \n",
       "1243      1.3     1.0     0.3        0.9                     0.0  \n",
       "1134      1.2     0.8     0.4        1.1                     0.0  \n",
       "507       0.6     0.8     1.3        1.1                     0.0  \n",
       "279       2.4     1.6     0.4        1.6                     1.0  \n",
       "512       2.5     0.8     0.2        1.3                     0.0  \n",
       "103       1.9     0.5     0.1        0.8                     0.0  \n",
       "33        0.7     0.8     1.1        1.8                     1.0  \n",
       "783       1.4     1.0     0.3        1.1                     1.0  \n",
       "1254      1.2     0.5     0.1        1.0                     1.0  \n",
       "291       0.7     0.5     0.6        1.2                     1.0  \n",
       "\n",
       "[10 rows x 21 columns]"
      ]
     },
     "execution_count": 75,
     "metadata": {},
     "output_type": "execute_result"
    }
   ],
   "source": [
    "import pandas as pd\n",
    "from sklearn.ensemble import RandomForestClassifier\n",
    "from sklearn.model_selection import train_test_split \n",
    "from sklearn import metrics\n",
    "from sklearn.model_selection import cross_val_score\n",
    "import matplotlib.pyplot as plt\n",
    "\n",
    "nba_data = pd.read_csv('../output/new_nba_data.csv')\n",
    "nba_data.sample(10, random_state=13)"
   ]
  },
  {
   "attachments": {},
   "cell_type": "markdown",
   "id": "52795660",
   "metadata": {},
   "source": [
    "The names of the players are not required for decisions, so we will be ignoring it"
   ]
  },
  {
   "cell_type": "code",
   "execution_count": 76,
   "id": "bfba2602",
   "metadata": {},
   "outputs": [],
   "source": [
    "nba_data.drop('Name', inplace=True, axis=1)"
   ]
  },
  {
   "cell_type": "code",
   "execution_count": 77,
   "id": "2407e237",
   "metadata": {},
   "outputs": [
    {
     "name": "stdout",
     "output_type": "stream",
     "text": [
      "Accuracy: 68.96%\n",
      "Recall: 78.37%\n",
      "Precision: 73.42%\n",
      "F1 Score: 75.81%\n"
     ]
    }
   ],
   "source": [
    "X = nba_data[nba_data.columns[:-1]]\n",
    "y = nba_data['CareerLongerThan5Years']\n",
    "train_X, test_X, train_y, test_y = train_test_split(X, y, random_state=13,stratify=y)\n",
    "dt_model = RandomForestClassifier(random_state=13)\n",
    "dt_model.fit(train_X, train_y)\n",
    "pred_y = dt_model.predict(test_X)\n",
    "\n",
    "print('Accuracy: {:.2%}'.format(metrics.accuracy_score(test_y, pred_y))) \n",
    "print('Recall: {:.2%}'.format(metrics.recall_score(test_y, pred_y))) \n",
    "print('Precision: {:.2%}'.format(metrics.precision_score(test_y, pred_y))) \n",
    "print('F1 Score: {:.2%}'.format(metrics.f1_score(test_y, pred_y)))"
   ]
  },
  {
   "attachments": {},
   "cell_type": "markdown",
   "id": "0f948ec4",
   "metadata": {},
   "source": [
    "The accuracy of 57% is pretty low. So let's try using a Cross-Validation to see if the random split affects our test."
   ]
  },
  {
   "cell_type": "code",
   "execution_count": 78,
   "id": "d68923db",
   "metadata": {},
   "outputs": [
    {
     "data": {
      "text/plain": [
       "0.6828358208955224"
      ]
     },
     "execution_count": 78,
     "metadata": {},
     "output_type": "execute_result"
    }
   ],
   "source": [
    "scores = cross_val_score(dt_model, X, y, scoring='accuracy', cv=5)\n",
    "scores.mean()"
   ]
  },
  {
   "attachments": {},
   "cell_type": "markdown",
   "id": "621c2224",
   "metadata": {},
   "source": [
    "By using cross validation, the score is 61%. Let's take a look at the Feature Importances."
   ]
  },
  {
   "cell_type": "code",
   "execution_count": 79,
   "id": "4aaa4236",
   "metadata": {},
   "outputs": [
    {
     "data": {
      "text/plain": [
       "GamesPlayed              0.127964\n",
       "FieldGoalPercent         0.075578\n",
       "MinutesPlayed            0.065323\n",
       "FreeThrowPercent         0.064924\n",
       "FreeThrowMade            0.062415\n",
       "FieldGoalsMade           0.057838\n",
       "FreeThrowAttempts        0.056631\n",
       "PointsPerGame            0.055525\n",
       "FieldGoalAttempts        0.052701\n",
       "DefensiveRebounds        0.048180\n",
       "Rebounds                 0.045638\n",
       "Assists                  0.045151\n",
       "OffensiveRebounds        0.043920\n",
       "3PointAttemptsPercent    0.041697\n",
       "Turnovers                0.041038\n",
       "Steals                   0.033975\n",
       "3PointAttempts           0.031927\n",
       "Blocks                   0.031481\n",
       "3PointMade               0.018094\n",
       "dtype: float64"
      ]
     },
     "execution_count": 79,
     "metadata": {},
     "output_type": "execute_result"
    }
   ],
   "source": [
    "feature_importances = pd.Series(dt_model.feature_importances_, index=nba_data.columns[:-1])\n",
    "feature_importances.sort_values(ascending=False)"
   ]
  },
  {
   "cell_type": "code",
   "execution_count": 80,
   "id": "f587273f",
   "metadata": {},
   "outputs": [
    {
     "data": {
      "text/plain": [
       "<AxesSubplot: >"
      ]
     },
     "execution_count": 80,
     "metadata": {},
     "output_type": "execute_result"
    },
    {
     "data": {
      "image/png": "[encoded data removed]",
      "text/plain": [
       "<Figure size 640x480 with 1 Axes>"
      ]
     },
     "metadata": {},
     "output_type": "display_data"
    }
   ],
   "source": [
    "feature_importances.nlargest(5).plot(kind='bar')"
   ]
  },
  {
   "attachments": {},
   "cell_type": "markdown",
   "id": "71dede00",
   "metadata": {},
   "source": [
    "First, let's try the train-validation-test method to play around with the hyperparameters. we'll use a 70%-15%-15% split."
   ]
  },
  {
   "cell_type": "code",
   "execution_count": 81,
   "id": "61be31e9",
   "metadata": {},
   "outputs": [
    {
     "data": {
      "text/plain": [
       "array([<AxesSubplot: ylabel='0'>], dtype=object)"
      ]
     },
     "execution_count": 81,
     "metadata": {},
     "output_type": "execute_result"
    },
    {
     "data": {
      "image/png": "[encoded data removed]",
      "text/plain": [
       "<Figure size 640x480 with 1 Axes>"
      ]
     },
     "metadata": {},
     "output_type": "display_data"
    }
   ],
   "source": [
    "X_train, X_test_full, y_train, y_test_full = train_test_split(X, y, random_state=13, test_size=0.3)\n",
    "X_val, X_test, y_val, y_test = train_test_split(X_test_full, y_test_full, random_state=13, test_size=0.3)\n",
    "\n",
    "pd.DataFrame([len(y_train), len(y_val), len(y_test)], index=['train','validation', 'test']).plot(kind='pie', subplots=True)"
   ]
  },
  {
   "attachments": {},
   "cell_type": "markdown",
   "id": "98c0f32a",
   "metadata": {},
   "source": [
    "Let's verify if the data has been split correctly."
   ]
  },
  {
   "cell_type": "code",
   "execution_count": 82,
   "id": "99f8a1f4",
   "metadata": {},
   "outputs": [
    {
     "data": {
      "text/plain": [
       "<AxesSubplot: title={'center': 'test'}, ylabel='CareerLongerThan5Years'>"
      ]
     },
     "execution_count": 82,
     "metadata": {},
     "output_type": "execute_result"
    },
    {
     "data": {
      "image/png": "[encoded data removed]",
      "text/plain": [
       "<Figure size 1200x600 with 3 Axes>"
      ]
     },
     "metadata": {},
     "output_type": "display_data"
    }
   ],
   "source": [
    "fig, (ax1, ax2, ax3) = plt.subplots(1, 3, figsize=(12,6))\n",
    "y_train.value_counts().plot(kind='pie', ax=ax1, title='train')\n",
    "y_val.value_counts().plot(kind='pie', ax=ax2, title='val')\n",
    "y_test.value_counts().plot(kind='pie', ax=ax3, title='test')"
   ]
  },
  {
   "cell_type": "code",
   "execution_count": 83,
   "id": "5298ef39",
   "metadata": {},
   "outputs": [
    {
     "name": "stdout",
     "output_type": "stream",
     "text": [
      "Accuracy: 62.63%\n"
     ]
    }
   ],
   "source": [
    "dt_model = RandomForestClassifier(random_state=13) \n",
    "dt_model.fit(X_train, y_train)\n",
    "y_pred = dt_model.predict(X_val)\n",
    "accuracy_score = metrics.accuracy_score(y_val, y_pred)\n",
    "print('Accuracy: {:.2%}'.format(accuracy_score)) "
   ]
  },
  {
   "attachments": {},
   "cell_type": "markdown",
   "id": "b060a35d",
   "metadata": {},
   "source": [
    "Let's play with the hyperparameters and see if we can get a better result. Let's start with max depth."
   ]
  },
  {
   "cell_type": "code",
   "execution_count": 105,
   "id": "8dda9edc",
   "metadata": {},
   "outputs": [
    {
     "name": "stdout",
     "output_type": "stream",
     "text": [
      "max depth 1: 61.57% accuracy on validation set.\n",
      "--------------------\n",
      "max depth 3: 62.63% accuracy on validation set.\n",
      "--------------------\n",
      "max depth 4: 62.99% accuracy on validation set.\n",
      "--------------------\n",
      "max depth 5: 62.99% accuracy on validation set.\n",
      "--------------------\n",
      "max depth 6: 63.35% accuracy on validation set.\n",
      "--------------------\n",
      "max depth 8: 63.35% accuracy on validation set.\n",
      "--------------------\n",
      "max depth 11: 63.35% accuracy on validation set.\n",
      "--------------------\n",
      "max depth 13: 63.35% accuracy on validation set.\n",
      "--------------------\n",
      "max depth 14: 63.35% accuracy on validation set.\n",
      "--------------------\n",
      "best max depth 14 has 63.35% accuracy.\n"
     ]
    }
   ],
   "source": [
    "def train_and_find_best_depth(X_train, X_val, y_train, y_val, do_print): \n",
    "    result = None\n",
    "    accuracy_max = -1\n",
    "    for curr_max_depth in range(1, 20):\n",
    "        dt_model = RandomForestClassifier(max_depth=curr_max_depth,random_state=13) \n",
    "        dt_model.fit(X_train, y_train)\n",
    "        y_pred = dt_model.predict(X_val)\n",
    "        accuracy_score = metrics.accuracy_score(y_val, y_pred)\n",
    "\n",
    "        if accuracy_score >= accuracy_max: \n",
    "            accuracy_max = accuracy_score \n",
    "            result = curr_max_depth\n",
    "            if do_print:\n",
    "                print('max depth {}: {:.2%} accuracy on validation set.'.format(curr_max_depth, accuracy_score))\n",
    "            if do_print: \n",
    "                print('-' * 20)\n",
    "    print('best max depth {} has {:.2%} accuracy.'.format(result,accuracy_max))\n",
    "\n",
    "    return result\n",
    "    \n",
    "best_max_depth = train_and_find_best_depth(X_train, X_val, y_train, y_val, True)"
   ]
  },
  {
   "attachments": {},
   "cell_type": "markdown",
   "id": "c07feb52",
   "metadata": {},
   "source": [
    "Let's continue with n_estimators. AKA the number of trees in the forest."
   ]
  },
  {
   "cell_type": "code",
   "execution_count": 106,
   "id": "ab30ed80",
   "metadata": {},
   "outputs": [
    {
     "name": "stdout",
     "output_type": "stream",
     "text": [
      "n estimators 1: 57.30% accuracy on validation set.\n",
      "--------------------\n",
      "n estimators 3: 62.28% accuracy on validation set.\n",
      "--------------------\n",
      "n estimators 5: 62.28% accuracy on validation set.\n",
      "--------------------\n",
      "n estimators 30: 62.28% accuracy on validation set.\n",
      "--------------------\n",
      "n estimators 31: 62.63% accuracy on validation set.\n",
      "--------------------\n",
      "n estimators 32: 63.70% accuracy on validation set.\n",
      "--------------------\n",
      "n estimators 34: 64.06% accuracy on validation set.\n",
      "--------------------\n",
      "n estimators 35: 64.06% accuracy on validation set.\n",
      "--------------------\n",
      "n estimators 37: 65.48% accuracy on validation set.\n",
      "--------------------\n",
      "n estimators 44: 65.48% accuracy on validation set.\n",
      "--------------------\n",
      "n estimators 44 has 65.48% accuracy.\n"
     ]
    }
   ],
   "source": [
    "def train_and_find_n_estimators(X_train, X_val, y_train, y_val, do_print): \n",
    "    result = None\n",
    "    accuracy_max = -1\n",
    "    for n_estimators in range(1, 100):\n",
    "        dt_model = RandomForestClassifier(n_estimators=n_estimators,random_state=13) \n",
    "        dt_model.fit(X_train, y_train)\n",
    "        y_pred = dt_model.predict(X_val)\n",
    "        accuracy_score = metrics.accuracy_score(y_val, y_pred)\n",
    "\n",
    "        if accuracy_score >= accuracy_max: \n",
    "            accuracy_max = accuracy_score \n",
    "            result = n_estimators\n",
    "            if do_print:\n",
    "                print('n estimators {}: {:.2%} accuracy on validation set.'.format(n_estimators, accuracy_score))\n",
    "            if do_print: \n",
    "                print('-' * 20)\n",
    "    print('n estimators {} has {:.2%} accuracy.'.format(result,accuracy_max))\n",
    "\n",
    "    return result\n",
    "    \n",
    "best_n_estimators = train_and_find_n_estimators(X_train, X_val, y_train, y_val, True)"
   ]
  },
  {
   "attachments": {},
   "cell_type": "markdown",
   "id": "a68290fa",
   "metadata": {},
   "source": [
    "Now let's try to adjust the min_samples_split parameter which is the minimal number of different data placed in a node before the node is split"
   ]
  },
  {
   "cell_type": "code",
   "execution_count": 102,
   "id": "258a029b",
   "metadata": {},
   "outputs": [
    {
     "name": "stdout",
     "output_type": "stream",
     "text": [
      "min samples split 2: 62.63% accuracy on validation set.\n",
      "--------------------\n",
      "min samples split 4: 63.70% accuracy on validation set.\n",
      "--------------------\n",
      "min samples split 6: 63.70% accuracy on validation set.\n",
      "--------------------\n",
      "min samples split 8: 63.70% accuracy on validation set.\n",
      "--------------------\n",
      "min samples split 8 has 63.70% accuracy.\n"
     ]
    }
   ],
   "source": [
    "def train_and_find_min_samples_split(X_train, X_val, y_train, y_val, do_print): \n",
    "    result = None\n",
    "    accuracy_max = -1\n",
    "    for min_samples_split in range(2, 20):\n",
    "        dt_model = RandomForestClassifier(min_samples_split=min_samples_split,random_state=13) \n",
    "        dt_model.fit(X_train, y_train)\n",
    "        y_pred = dt_model.predict(X_val)\n",
    "        accuracy_score = metrics.accuracy_score(y_val, y_pred)\n",
    "\n",
    "        if accuracy_score >= accuracy_max: \n",
    "            accuracy_max = accuracy_score \n",
    "            result = min_samples_split\n",
    "            if do_print:\n",
    "                print('min samples split {}: {:.2%} accuracy on validation set.'.format(min_samples_split, accuracy_score))\n",
    "            if do_print: \n",
    "                print('-' * 20)\n",
    "    print('min samples split {} has {:.2%} accuracy.'.format(result,accuracy_max))\n",
    "\n",
    "    return result\n",
    "\n",
    "min_samples_split = train_and_find_min_samples_split(X_train, X_val, y_train, y_val, True)"
   ]
  },
  {
   "attachments": {},
   "cell_type": "markdown",
   "id": "888f7959",
   "metadata": {},
   "source": [
    "Let's try the max_features parameter. It is the max number of features who are considered when splitting a node."
   ]
  },
  {
   "cell_type": "code",
   "execution_count": 109,
   "id": "c975ef9a",
   "metadata": {},
   "outputs": [
    {
     "name": "stdout",
     "output_type": "stream",
     "text": [
      "max features split 1: 63.70% accuracy on validation set.\n",
      "--------------------\n",
      "max features split 2: 65.12% accuracy on validation set.\n",
      "--------------------\n",
      "max features split 13: 65.48% accuracy on validation set.\n",
      "--------------------\n",
      "max features split 15: 65.84% accuracy on validation set.\n",
      "--------------------\n",
      "max features split 15 has 65.84% accuracy.\n"
     ]
    }
   ],
   "source": [
    "def train_and_find_max_features(X_train, X_val, y_train, y_val, do_print): \n",
    "    result = None\n",
    "    accuracy_max = -1\n",
    "    for max_features in range(1, 20):\n",
    "        dt_model = RandomForestClassifier(max_features=max_features,random_state=13) \n",
    "        dt_model.fit(X_train, y_train)\n",
    "        y_pred = dt_model.predict(X_val)\n",
    "        accuracy_score = metrics.accuracy_score(y_val, y_pred)\n",
    "\n",
    "        if accuracy_score >= accuracy_max: \n",
    "            accuracy_max = accuracy_score \n",
    "            result = max_features\n",
    "            if do_print:\n",
    "                print('max features split {}: {:.2%} accuracy on validation set.'.format(max_features, accuracy_score))\n",
    "            if do_print: \n",
    "                print('-' * 20)\n",
    "    print('max features split {} has {:.2%} accuracy.'.format(result,accuracy_max))\n",
    "\n",
    "    return result\n",
    "\n",
    "max_features = train_and_find_max_features(X_train, X_val, y_train, y_val, True)"
   ]
  },
  {
   "cell_type": "code",
   "execution_count": 129,
   "id": "ee530d1d",
   "metadata": {},
   "outputs": [
    {
     "name": "stdout",
     "output_type": "stream",
     "text": [
      "Accuracy: 69.42%\n"
     ]
    }
   ],
   "source": [
    "dt_model = RandomForestClassifier(max_depth=best_max_depth,n_estimators=best_n_estimators, random_state=13, min_samples_split=min_samples_split,max_features=max_features)\n",
    "dt_model.fit(X_train, y_train)\n",
    "y_pred = dt_model.predict(X_test)\n",
    "accuracy_score_imputed = metrics.accuracy_score(y_test, y_pred) \n",
    "print('Accuracy: {:.2%}'.format(accuracy_score_imputed))"
   ]
  },
  {
   "attachments": {},
   "cell_type": "markdown",
   "id": "507dd8dd",
   "metadata": {},
   "source": [
    "Imputing data is not required. The only data that we missed were the Percent of successful 3-Throws of players who did not have any 3 Throws (0)"
   ]
  },
  {
   "attachments": {},
   "cell_type": "markdown",
   "id": "2a3ea8df",
   "metadata": {},
   "source": [
    "By using the train-validation test method without any hyperparameters, an accuracy of 62.63% has been reached. By adding hyperparameters, it rose up to 69.42. Which is a little bit higher than the train-test split method (68.96%)."
   ]
  },
  {
   "cell_type": "markdown",
   "id": "dc7ead16",
   "metadata": {},
   "source": []
  }
 ],
 "metadata": {
  "kernelspec": {
   "display_name": "leoenv",
   "language": "python",
   "name": "python3"
  },
  "language_info": {
   "codemirror_mode": {
    "name": "ipython",
    "version": 3
   },
   "file_extension": ".py",
   "mimetype": "text/x-python",
   "name": "python",
   "nbconvert_exporter": "python",
   "pygments_lexer": "ipython3",
   "version": "3.9.13 (main, Aug 25 2022, 23:51:50) [MSC v.1916 64 bit (AMD64)]"
  },
  "vscode": {
   "interpreter": {
    "hash": "5a12b1c4cc1e085ee80c14325f47188bb58a4d993d7fd3dd31e64a439795871b"
   }
  }
 },
 "nbformat": 4,
 "nbformat_minor": 5
}
